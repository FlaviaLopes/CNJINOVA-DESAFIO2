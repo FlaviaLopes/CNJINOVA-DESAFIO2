{
 "cells": [
  {
   "cell_type": "markdown",
   "metadata": {},
   "source": [
    "# Analise Exploratória dos Dados"
   ]
  },
  {
   "cell_type": "markdown",
   "metadata": {},
   "source": [
    "Fazer amostragem das bases\n",
    "\n",
    "1. Identificar as variáveis críticas para qualidade de dados/ou considerar todas\n",
    "2. Identificar quais documentos têm estrutura diferente e retornar id\n",
    "3. Testar as hipóteses"
   ]
  },
  {
   "cell_type": "markdown",
   "metadata": {},
   "source": [
    "## 1) Identificar as variáveis críticas para qualidade de dados/ou considerar todas\n",
    "\n",
    "Utilizando o MongoDB Compass foi feita uma análise de esquema na qual foram identificadas:\n",
    "\n",
    "campos principais\n",
    "campos com mais campos null\n",
    "campos indefinidos\n",
    "A análise foi feita baseada em 1.000 documentos, 0,76% do total enviado.\n",
    "\n",
    "A análise retornou um esquema da base."
   ]
  },
  {
   "cell_type": "code",
   "execution_count": 83,
   "metadata": {},
   "outputs": [],
   "source": [
    "import os\n",
    "import json\n",
    "import pandas as pd\n",
    "import numpy as np"
   ]
  },
  {
   "cell_type": "code",
   "execution_count": 84,
   "metadata": {},
   "outputs": [],
   "source": [
    "#estes são arquivos csv de frequência de campos, possuem amostras de 18 tribunais.\n",
    "files = [it for it in os.listdir('../data/csv') if '.csv' in it]"
   ]
  },
  {
   "cell_type": "code",
   "execution_count": 85,
   "metadata": {},
   "outputs": [],
   "source": [
    "#agrupa todos csv em um dataframe\n",
    "df_stats = pd.DataFrame()\n",
    "for it in files:\n",
    "    df_stats = pd.concat([pd.read_csv(f'../data/csv/{it}'), df_stats], ignore_index=True, axis=0)\n",
    "df_stats = df_stats.fillna(0)"
   ]
  },
  {
   "cell_type": "code",
   "execution_count": 105,
   "metadata": {},
   "outputs": [
    {
     "data": {
      "text/plain": [
       "movimento_1.dataHora                               0.955357\n",
       "dadosBasicos.assunto_1.principal                   0.928571\n",
       "movimento_2.dataHora                               0.883929\n",
       "movimento_3.dataHora                               0.821429\n",
       "dadosBasicos.assunto_1.codigoNacional              0.767857\n",
       "                                                     ...   \n",
       "movimento_189.orgaoJulgador                        0.008929\n",
       "movimento_189.orgaoJulgador.nomeOrgao              0.008929\n",
       "movimento_189.orgaoJulgador.codigoMunicipioIBGE    0.008929\n",
       "movimento_189.orgaoJulgador.codigoOrgao            0.008929\n",
       "movimento_69.tipoDecisao                           0.008929\n",
       "Length: 3692, dtype: float64"
      ]
     },
     "execution_count": 105,
     "metadata": {},
     "output_type": "execute_result"
    }
   ],
   "source": [
    "#apresenta variáveis com mais valores faltantes, em ordem.\n",
    "#entretanto nem todas são obrigatórias.\n",
    "#(verificar quais são - MTD)\n",
    "df.loc[:, df_stats.mean() < 1].mean().sort_values(ascending=False)"
   ]
  },
  {
   "cell_type": "markdown",
   "metadata": {},
   "source": [
    "## 2) Identificar quais documentos têm estrutura diferente e retornar id\n",
    "\n"
   ]
  },
  {
   "cell_type": "code",
   "execution_count": null,
   "metadata": {},
   "outputs": [],
   "source": [
    "# carregar os docs, selecionar as features anteriores, verificar quais tem campos nulos, retornar ids"
   ]
  },
  {
   "cell_type": "code",
   "execution_count": 76,
   "metadata": {},
   "outputs": [],
   "source": [
    "# aqui carrega 25 json em 'data/processos-json' extrai conteúdo e põe num dataframe\n",
    "global values\n",
    "values = []\n",
    "def json_frame(node, root=''):\n",
    "    col = ''''''\n",
    "    for k in node.keys():        \n",
    "        col += f'{root}.{k}' if root else k\n",
    "        col += ','\n",
    "        t = type(node[k])\n",
    "        if (t != list) & (t != dict): \n",
    "            values.append(node[k]) \n",
    "        else:\n",
    "            values.append(True)\n",
    "        if type(node[k]) == dict:\n",
    "            col += json_frame(node[k], root=f'{root}.{k}' if root else k)\n",
    "        if type(node[k]) == list:\n",
    "            for i in range(len(node[k])):\n",
    "                col += json_frame(node[k][i], root=f'{root}.{k}_{i+1}' if root else f'{k}_{i+1}')\n",
    "    return col\n",
    "\n",
    "data = pd.DataFrame()\n",
    "\n",
    "#aqui itera documentos, lê nomes de campos e valores. no final cria frame com eles.\n",
    "for json_path in get_paths(collection_path): \n",
    "    doc = load_json(collection_path + '/' + json_path)\n",
    "    values = []\n",
    "    cols = json_frame(doc)\n",
    "    cols = cols.split(',')[0:-1]\n",
    "    cols = dict(zip(cols, values))\n",
    "    \n",
    "    data = pd.concat([pd.DataFrame(data=[cols.values()], columns=cols.keys()), data])\n",
    "data = data.fillna(np.nan)\n"
   ]
  },
  {
   "cell_type": "code",
   "execution_count": 92,
   "metadata": {},
   "outputs": [],
   "source": [
    "# aqui seleciona variáveis com frequência maior que 0.6 (aleatoriamente escolhido)\n",
    "# supõe-se que são importantes\n",
    "features = df_stats.loc[:, df_stats.mean() > 0.6].columns"
   ]
  },
  {
   "cell_type": "code",
   "execution_count": 114,
   "metadata": {},
   "outputs": [
    {
     "data": {
      "text/plain": [
       "dadosBasicos.totalAssuntos                        8\n",
       "movimento_3.movimentoNacional.codigoNacional      8\n",
       "movimento_3.movimentoNacional                     8\n",
       "movimento_8.dataHora                              7\n",
       "movimento_7.dataHora                              7\n",
       "movimento_6.dataHora                              7\n",
       "movimento_2.movimentoNacional.codigoNacional      6\n",
       "dadosBasicos.assunto_1.codigoNacional             6\n",
       "movimento_5.dataHora                              6\n",
       "movimento_2.movimentoNacional                     6\n",
       "movimento_1.movimentoNacional.codigoNacional      5\n",
       "movimento_1.movimentoNacional                     5\n",
       "movimento_4.dataHora                              5\n",
       "movimento_3.dataHora                              4\n",
       "movimento_2.dataHora                              3\n",
       "dadosBasicos.orgaoJulgador                        0\n",
       "dadosBasicos                                      0\n",
       "dadosBasicos.assunto                              0\n",
       "dadosBasicos.assunto_1.principal                  0\n",
       "dadosBasicos.numero                               0\n",
       "dadosBasicos.dataAjuizamento                      0\n",
       "dadosBasicos.classeProcessual                     0\n",
       "dadosBasicos.nivelSigilo                          0\n",
       "dadosBasicos.orgaoJulgador.codigoMunicipioIBGE    0\n",
       "dadosBasicos.orgaoJulgador.nomeOrgao              0\n",
       "dadosBasicos.orgaoJulgador.codigoOrgao            0\n",
       "dadosBasicos.orgaoJulgador.instancia              0\n",
       "dadosBasicos.codigoLocalidade                     0\n",
       "siglaTribunal                                     0\n",
       "movimento                                         0\n",
       "grau                                              0\n",
       "movimento_1.dataHora                              0\n",
       "millisInsercao                                    0\n",
       "dtype: int64"
      ]
     },
     "execution_count": 114,
     "metadata": {},
     "output_type": "execute_result"
    }
   ],
   "source": [
    "data.loc[:, features].isnull().sum().sort_values(ascending=False)"
   ]
  },
  {
   "cell_type": "markdown",
   "metadata": {},
   "source": [
    "## 3) Testar as hipóteses\n",
    "\n"
   ]
  },
  {
   "cell_type": "code",
   "execution_count": 56,
   "metadata": {},
   "outputs": [],
   "source": [
    "# Existe um sistema predominante nos docs com dados importantes nulos\n",
    "# O ano afeta a presença dos dados, processos mais antigos com mais dados faltantes"
   ]
  },
  {
   "cell_type": "markdown",
   "metadata": {},
   "source": [
    "# Validando Campos"
   ]
  },
  {
   "cell_type": "markdown",
   "metadata": {},
   "source": [
    "**Exemplos de inconsistências:**\n",
    "\n",
    "- Classes e assuntos de matérias diferentes;\n",
    "- Número do processo fora do padrão;\n",
    "- Datas de movimento fora da ordem;\n",
    "- Código da TPU do nível 1 ou 2;\n",
    "- Processo sem classe, assunto ou movimento;\n",
    "- Órgão julgador ou ramo da justiça com competência diferente da classe e assunto;\n",
    "- Processos baixados sem julgamento.\n"
   ]
  },
  {
   "cell_type": "code",
   "execution_count": 97,
   "metadata": {},
   "outputs": [
    {
     "data": {
      "text/html": [
       "<div>\n",
       "<style scoped>\n",
       "    .dataframe tbody tr th:only-of-type {\n",
       "        vertical-align: middle;\n",
       "    }\n",
       "\n",
       "    .dataframe tbody tr th {\n",
       "        vertical-align: top;\n",
       "    }\n",
       "\n",
       "    .dataframe thead th {\n",
       "        text-align: right;\n",
       "    }\n",
       "</style>\n",
       "<table border=\"1\" class=\"dataframe\">\n",
       "  <thead>\n",
       "    <tr style=\"text-align: right;\">\n",
       "      <th></th>\n",
       "      <th>dadosBasicos.assunto_1.assuntoLocal</th>\n",
       "      <th>dadosBasicos.assunto_2.principal</th>\n",
       "      <th>dadosBasicos.assunto_2.assuntoLocal</th>\n",
       "      <th>dadosBasicos.numero</th>\n",
       "      <th>dadosBasicos.dataAjuizamento</th>\n",
       "      <th>dadosBasicos.orgaoJulgador.nomeOrgao</th>\n",
       "      <th>dadosBasicos.orgaoJulgador.codigoOrgao</th>\n",
       "      <th>dadosBasicos.orgaoJulgador.instancia</th>\n",
       "      <th>dadosBasicos.codigoLocalidade</th>\n",
       "      <th>siglaTribunal</th>\n",
       "      <th>...</th>\n",
       "      <th>movimento_182.identificadorMovimento</th>\n",
       "      <th>movimento_183.identificadorMovimento</th>\n",
       "      <th>movimento_184.identificadorMovimento</th>\n",
       "      <th>movimento_185.identificadorMovimento</th>\n",
       "      <th>movimento_186.identificadorMovimento</th>\n",
       "      <th>movimento_187.identificadorMovimento</th>\n",
       "      <th>dadosBasicos.assunto_1.descricao</th>\n",
       "      <th>dadosBasicos.assunto_2.descricao</th>\n",
       "      <th>movimento_5.complementoNacional_3.descricaoComplemento</th>\n",
       "      <th>movimento_5.complementoNacional_4.descricaoComplemento</th>\n",
       "    </tr>\n",
       "  </thead>\n",
       "  <tbody>\n",
       "    <tr>\n",
       "      <th>count</th>\n",
       "      <td>5</td>\n",
       "      <td>6</td>\n",
       "      <td>1</td>\n",
       "      <td>25</td>\n",
       "      <td>25</td>\n",
       "      <td>25</td>\n",
       "      <td>25</td>\n",
       "      <td>25</td>\n",
       "      <td>25</td>\n",
       "      <td>25</td>\n",
       "      <td>...</td>\n",
       "      <td>1</td>\n",
       "      <td>1</td>\n",
       "      <td>1</td>\n",
       "      <td>1</td>\n",
       "      <td>1</td>\n",
       "      <td>1</td>\n",
       "      <td>1</td>\n",
       "      <td>1</td>\n",
       "      <td>1</td>\n",
       "      <td>1</td>\n",
       "    </tr>\n",
       "    <tr>\n",
       "      <th>unique</th>\n",
       "      <td>1</td>\n",
       "      <td>2</td>\n",
       "      <td>1</td>\n",
       "      <td>25</td>\n",
       "      <td>23</td>\n",
       "      <td>25</td>\n",
       "      <td>25</td>\n",
       "      <td>2</td>\n",
       "      <td>20</td>\n",
       "      <td>12</td>\n",
       "      <td>...</td>\n",
       "      <td>1</td>\n",
       "      <td>1</td>\n",
       "      <td>1</td>\n",
       "      <td>1</td>\n",
       "      <td>1</td>\n",
       "      <td>1</td>\n",
       "      <td>1</td>\n",
       "      <td>1</td>\n",
       "      <td>1</td>\n",
       "      <td>1</td>\n",
       "    </tr>\n",
       "    <tr>\n",
       "      <th>top</th>\n",
       "      <td>True</td>\n",
       "      <td>True</td>\n",
       "      <td>True</td>\n",
       "      <td>00210841819004058300</td>\n",
       "      <td>20200318000000</td>\n",
       "      <td>30ª ZONA ELEITORAL - SÃO BENTO DO SUL</td>\n",
       "      <td>14338</td>\n",
       "      <td>ORIG</td>\n",
       "      <td>3550308</td>\n",
       "      <td>TRF2</td>\n",
       "      <td>...</td>\n",
       "      <td>84990</td>\n",
       "      <td>84964</td>\n",
       "      <td>84941</td>\n",
       "      <td>84965</td>\n",
       "      <td>84997</td>\n",
       "      <td>84885</td>\n",
       "      <td>Execução Fiscal</td>\n",
       "      <td>Execução Fiscal</td>\n",
       "      <td>tipo_de_distribuicao_redistribuicao</td>\n",
       "      <td>tipo_de_distribuicao_redistribuicao</td>\n",
       "    </tr>\n",
       "    <tr>\n",
       "      <th>freq</th>\n",
       "      <td>5</td>\n",
       "      <td>3</td>\n",
       "      <td>1</td>\n",
       "      <td>1</td>\n",
       "      <td>3</td>\n",
       "      <td>1</td>\n",
       "      <td>1</td>\n",
       "      <td>22</td>\n",
       "      <td>2</td>\n",
       "      <td>3</td>\n",
       "      <td>...</td>\n",
       "      <td>1</td>\n",
       "      <td>1</td>\n",
       "      <td>1</td>\n",
       "      <td>1</td>\n",
       "      <td>1</td>\n",
       "      <td>1</td>\n",
       "      <td>1</td>\n",
       "      <td>1</td>\n",
       "      <td>1</td>\n",
       "      <td>1</td>\n",
       "    </tr>\n",
       "  </tbody>\n",
       "</table>\n",
       "<p>4 rows × 1850 columns</p>\n",
       "</div>"
      ],
      "text/plain": [
       "       dadosBasicos.assunto_1.assuntoLocal dadosBasicos.assunto_2.principal  \\\n",
       "count                                    5                                6   \n",
       "unique                                   1                                2   \n",
       "top                                   True                             True   \n",
       "freq                                     5                                3   \n",
       "\n",
       "       dadosBasicos.assunto_2.assuntoLocal   dadosBasicos.numero  \\\n",
       "count                                    1                    25   \n",
       "unique                                   1                    25   \n",
       "top                                   True  00210841819004058300   \n",
       "freq                                     1                     1   \n",
       "\n",
       "       dadosBasicos.dataAjuizamento   dadosBasicos.orgaoJulgador.nomeOrgao  \\\n",
       "count                            25                                     25   \n",
       "unique                           23                                     25   \n",
       "top                  20200318000000  30ª ZONA ELEITORAL - SÃO BENTO DO SUL   \n",
       "freq                              3                                      1   \n",
       "\n",
       "       dadosBasicos.orgaoJulgador.codigoOrgao  \\\n",
       "count                                      25   \n",
       "unique                                     25   \n",
       "top                                     14338   \n",
       "freq                                        1   \n",
       "\n",
       "       dadosBasicos.orgaoJulgador.instancia dadosBasicos.codigoLocalidade  \\\n",
       "count                                    25                            25   \n",
       "unique                                    2                            20   \n",
       "top                                    ORIG                       3550308   \n",
       "freq                                     22                             2   \n",
       "\n",
       "       siglaTribunal  ... movimento_182.identificadorMovimento  \\\n",
       "count             25  ...                                    1   \n",
       "unique            12  ...                                    1   \n",
       "top             TRF2  ...                                84990   \n",
       "freq               3  ...                                    1   \n",
       "\n",
       "       movimento_183.identificadorMovimento  \\\n",
       "count                                     1   \n",
       "unique                                    1   \n",
       "top                                   84964   \n",
       "freq                                      1   \n",
       "\n",
       "       movimento_184.identificadorMovimento  \\\n",
       "count                                     1   \n",
       "unique                                    1   \n",
       "top                                   84941   \n",
       "freq                                      1   \n",
       "\n",
       "       movimento_185.identificadorMovimento  \\\n",
       "count                                     1   \n",
       "unique                                    1   \n",
       "top                                   84965   \n",
       "freq                                      1   \n",
       "\n",
       "       movimento_186.identificadorMovimento  \\\n",
       "count                                     1   \n",
       "unique                                    1   \n",
       "top                                   84997   \n",
       "freq                                      1   \n",
       "\n",
       "       movimento_187.identificadorMovimento dadosBasicos.assunto_1.descricao  \\\n",
       "count                                     1                                1   \n",
       "unique                                    1                                1   \n",
       "top                                   84885                  Execução Fiscal   \n",
       "freq                                      1                                1   \n",
       "\n",
       "       dadosBasicos.assunto_2.descricao  \\\n",
       "count                                 1   \n",
       "unique                                1   \n",
       "top                     Execução Fiscal   \n",
       "freq                                  1   \n",
       "\n",
       "       movimento_5.complementoNacional_3.descricaoComplemento  \\\n",
       "count                                                   1       \n",
       "unique                                                  1       \n",
       "top                   tipo_de_distribuicao_redistribuicao       \n",
       "freq                                                    1       \n",
       "\n",
       "       movimento_5.complementoNacional_4.descricaoComplemento  \n",
       "count                                                   1      \n",
       "unique                                                  1      \n",
       "top                   tipo_de_distribuicao_redistribuicao      \n",
       "freq                                                    1      \n",
       "\n",
       "[4 rows x 1850 columns]"
      ]
     },
     "execution_count": 97,
     "metadata": {},
     "output_type": "execute_result"
    }
   ],
   "source": [
    "data.describe(include='object')"
   ]
  },
  {
   "cell_type": "markdown",
   "metadata": {},
   "source": [
    "### 1) Classes e assuntos de matérias diferentes:\n",
    "obs.: esse acho que não pode ser alterado, pois não dá pra saber se é a classe ou assunto que está errado."
   ]
  },
  {
   "cell_type": "code",
   "execution_count": null,
   "metadata": {},
   "outputs": [],
   "source": []
  },
  {
   "cell_type": "markdown",
   "metadata": {},
   "source": [
    "### 2) número do processo fora do padrão:\n",
    "- padrão: NNNNNNN-DD.AAAA.J.TR.OOOO\n",
    "obs.: este acho que não pode ser alterado. Mesmo que as informações que formam ele estiverem disponíveis no documento, ele já está correndo com número errado. \n",
    "Criar um alerta para que corrijam?"
   ]
  },
  {
   "cell_type": "markdown",
   "metadata": {},
   "source": [
    "### 3) Datas de movimento fora da ordem:"
   ]
  },
  {
   "cell_type": "markdown",
   "metadata": {},
   "source": [
    "### 4) Código da TPU do nível 1 ou 2:\n",
    "obs.: talvez, se for pra preencher com os elementos pai, porque dá pra traçar o caminho de volta. O contrário não é possível."
   ]
  },
  {
   "cell_type": "code",
   "execution_count": null,
   "metadata": {},
   "outputs": [],
   "source": [
    "def corrige_nivel_tpu():\n",
    "    pass"
   ]
  },
  {
   "cell_type": "markdown",
   "metadata": {},
   "source": [
    "### 5) Processo sem classe, assunto ou movimento:\n",
    "obs: não dá pra alterar. Mas impede de correr processo. Alerta?"
   ]
  },
  {
   "cell_type": "code",
   "execution_count": null,
   "metadata": {},
   "outputs": [],
   "source": [
    "def get_processo_sem_classe_assunto_movimento():\n",
    "    pass"
   ]
  },
  {
   "cell_type": "markdown",
   "metadata": {},
   "source": [
    "### 6) Órgão julgador ou ramo da justiça com competência diferente da classe e assunto;\n",
    "obs: não dá pra alterar. Mas é grave e pode atrasar o processo. De repente criar um alerta."
   ]
  },
  {
   "cell_type": "code",
   "execution_count": null,
   "metadata": {},
   "outputs": [],
   "source": [
    "def get_processo_orgao_competencia_diferente():\n",
    "    pass"
   ]
  },
  {
   "cell_type": "markdown",
   "metadata": {},
   "source": [
    "### 7) Processos baixados sem julgamento."
   ]
  },
  {
   "cell_type": "markdown",
   "metadata": {},
   "source": [
    "Código para extrair campos do json e criar tabela com frequência"
   ]
  },
  {
   "cell_type": "code",
   "execution_count": 4,
   "metadata": {},
   "outputs": [],
   "source": [
    "collection_path = '../data/processos-json'\n",
    "\n",
    "def get_paths(collection_path):\n",
    "    docs = os.listdir(collection_path)\n",
    "    docs = [it for it in docs if '.json' in it]\n",
    "    return docs\n",
    "\n",
    "def load_json(json_path):\n",
    "    with open(json_path, 'r') as file:\n",
    "        return json.load(file)[0]\n",
    "\n",
    "def get_structure(node, root=''):\n",
    "    struct = ''''''\n",
    "    for k in node.keys():\n",
    "        struct += f'{root}.{k}' if root else k\n",
    "        struct += ','\n",
    "        if type(node[k]) == dict:\n",
    "            struct += get_structure(node[k], root=f'{root}.{k}' if root else k)\n",
    "        if type(node[k]) == list:\n",
    "            for i in range(len(node[k])):\n",
    "                struct += get_structure(node[k][i], root=f'{root}.{k}_{i+1}' if root else f'{k}_{i+1}')\n",
    "    return struct"
   ]
  },
  {
   "cell_type": "code",
   "execution_count": null,
   "metadata": {},
   "outputs": [],
   "source": [
    "#retorna os campos com a frequência de cada um\n",
    "df = pd.DataFrame()\n",
    "\n",
    "count = 0\n",
    "for json_path in get_paths(collection_path): \n",
    "    doc = load_json(collection_path + '/' + json_path)\n",
    "    cols = get_structure(doc)\n",
    "    cols = cols.split(',')[0:-1]\n",
    "    for it in cols:\n",
    "        df.loc[count, it] = 1\n",
    "    count += 1\n",
    "    \n",
    "df = df.fillna(0)"
   ]
  },
  {
   "cell_type": "code",
   "execution_count": null,
   "metadata": {},
   "outputs": [],
   "source": [
    "df.to_csv('features.csv', index=False)"
   ]
  }
 ],
 "metadata": {
  "kernelspec": {
   "display_name": "Python 3",
   "language": "python",
   "name": "python3"
  },
  "language_info": {
   "codemirror_mode": {
    "name": "ipython",
    "version": 3
   },
   "file_extension": ".py",
   "mimetype": "text/x-python",
   "name": "python",
   "nbconvert_exporter": "python",
   "pygments_lexer": "ipython3",
   "version": "3.6.9"
  }
 },
 "nbformat": 4,
 "nbformat_minor": 4
}
